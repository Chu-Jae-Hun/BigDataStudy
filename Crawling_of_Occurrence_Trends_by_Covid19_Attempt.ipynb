import requests
from bs4 import BeautifulSoup as bs
import re
import pandas as pd

site = requests.get('http://ncov.mohw.go.kr/bdBoardList_Real.do?brdld=1&brdGubun=13&ncvContSeq=&contSeq=&board_id=&gubun=')
soup = bs(site.content, 'html.parser')
#print(soup)
city_info = soup.find_all(class_="name") #load 'name' class
#print(city_info)
cumulative_num_of_cc = soup.find_all(class_="num") #load 'num' class
#print(cumulative_num_of_cc)
new_num_of_cc = soup.find_all(class_="before") #load 'before' class
#print(new_num_of_cc)

#from googling
def clean_text(text): #Remove unnecessary strings
    cleaned_text = re.sub('[a-zA-Z]' , '', text)
    cleaned_text = re.sub('[\{\}\[\]\/?.,;:|\)*~`!^\-_+<>@\#$%&\\\=\(\\]','', cleaned_text)
    return cleaned_text

result = dict() #all data to dictionary
for city, cumulative, new in zip(city_info, cumulative_num_of_cc, new_num_of_cc):
    result[city.get_text()] = list()
    c_element = clean_text(cumulative.get_text())
    result[city.get_text()].append(c_element)
    n_element = clean_text(new.get_text())
    result[city.get_text()].append(n_element)
print(result)


result = pd.DataFrame(result, index=['누적 확진자', '신규 확진자'])
fileName = "Occurrence_Trends_by_Covid19.csv"
result.to_csv(fileName)
